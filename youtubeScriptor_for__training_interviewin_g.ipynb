{
  "nbformat": 4,
  "nbformat_minor": 0,
  "metadata": {
    "colab": {
      "provenance": [],
      "authorship_tag": "ABX9TyNtD4KQ+sPggHlbmcdtnRs4",
      "include_colab_link": true
    },
    "kernelspec": {
      "name": "python3",
      "display_name": "Python 3"
    },
    "language_info": {
      "name": "python"
    }
  },
  "cells": [
    {
      "cell_type": "markdown",
      "metadata": {
        "id": "view-in-github",
        "colab_type": "text"
      },
      "source": [
        "<a href=\"https://colab.research.google.com/github/jinseriouspark/keyword_extraction_to_segments/blob/main/youtubeScriptor_for__training_interviewin_g.ipynb\" target=\"_parent\"><img src=\"https://colab.research.google.com/assets/colab-badge.svg\" alt=\"Open In Colab\"/></a>"
      ]
    },
    {
      "cell_type": "code",
      "source": [
        "#!pip install langchain_community\n",
        "!pip install pytube\n",
        "!pip install --upgrade --quiet youtube-transcript-api"
      ],
      "metadata": {
        "colab": {
          "base_uri": "https://localhost:8080/"
        },
        "id": "s2_FOlS6tRwS",
        "outputId": "3eb776d1-567b-406e-85be-ab272762e955"
      },
      "execution_count": null,
      "outputs": [
        {
          "output_type": "stream",
          "name": "stdout",
          "text": [
            "Collecting pytube\n",
            "  Downloading pytube-15.0.0-py3-none-any.whl (57 kB)\n",
            "\u001b[?25l     \u001b[90m━━━━━━━━━━━━━━━━━━━━━━━━━━━━━━━━━━━━━━━━\u001b[0m \u001b[32m0.0/57.6 kB\u001b[0m \u001b[31m?\u001b[0m eta \u001b[36m-:--:--\u001b[0m\r\u001b[2K     \u001b[90m━━━━━━━━━━━━━━━━━━━━━━━━━━━━━━━━━━━━━━━━\u001b[0m \u001b[32m57.6/57.6 kB\u001b[0m \u001b[31m2.4 MB/s\u001b[0m eta \u001b[36m0:00:00\u001b[0m\n",
            "\u001b[?25hInstalling collected packages: pytube\n",
            "Successfully installed pytube-15.0.0\n"
          ]
        }
      ]
    },
    {
      "cell_type": "code",
      "source": [
        "!pip install --upgrade pip\n",
        "!pip install kiwipiepy"
      ],
      "metadata": {
        "colab": {
          "base_uri": "https://localhost:8080/"
        },
        "id": "cG-JJmaDz5ri",
        "outputId": "e381c67a-d0a9-4f8a-81be-856b77366c62"
      },
      "execution_count": null,
      "outputs": [
        {
          "output_type": "stream",
          "name": "stdout",
          "text": [
            "Requirement already satisfied: pip in /usr/local/lib/python3.10/dist-packages (24.0)\n",
            "\u001b[33mWARNING: Running pip as the 'root' user can result in broken permissions and conflicting behaviour with the system package manager. It is recommended to use a virtual environment instead: https://pip.pypa.io/warnings/venv\u001b[0m\u001b[33m\n",
            "\u001b[0mRequirement already satisfied: kiwipiepy in /usr/local/lib/python3.10/dist-packages (0.17.0)\n",
            "Requirement already satisfied: kiwipiepy-model<0.18,>=0.17 in /usr/local/lib/python3.10/dist-packages (from kiwipiepy) (0.17.0)\n",
            "Requirement already satisfied: numpy in /usr/local/lib/python3.10/dist-packages (from kiwipiepy) (1.25.2)\n",
            "Requirement already satisfied: tqdm in /usr/local/lib/python3.10/dist-packages (from kiwipiepy) (4.66.2)\n",
            "\u001b[33mWARNING: Running pip as the 'root' user can result in broken permissions and conflicting behaviour with the system package manager. It is recommended to use a virtual environment instead: https://pip.pypa.io/warnings/venv\u001b[0m\u001b[33m\n",
            "\u001b[0m"
          ]
        }
      ]
    },
    {
      "cell_type": "code",
      "execution_count": null,
      "metadata": {
        "id": "69-vo4mvsfBh"
      },
      "outputs": [],
      "source": [
        "from langchain_community.document_loaders import YoutubeLoader\n",
        "loader = YoutubeLoader.from_youtube_url('https://www.youtube.com/watch?v=X27D5wWW9eA',\n",
        "                                        add_video_info = True,\n",
        "                                        language = ['ko'])\n",
        "get_sentences = loader.load()"
      ]
    },
    {
      "cell_type": "markdown",
      "source": [
        "-  진행 배경 : 유튜브에서 scipt 를 얻어 이를 활용하고 싶지만, 어디까지가 문장이고 어디부터가 문장이 아닌지 확인을 해야 하는 상황입니다. 한 문단에서 어디까지가 문장인지를 체크해야 할 필요성이 듭니다.\n",
        "- 해결책 : kiwi 를 활용해서 나눠봅시다\n",
        "    - 참고자료 1:  https://bab2min.tistory.com/669\n",
        "    - 참고자료 2: https://github.com/bab2min/kiwipiepy"
      ],
      "metadata": {
        "id": "JF4GU2ok2cF7"
      }
    },
    {
      "cell_type": "code",
      "source": [
        "# 문장 분리가 안된 텍스트에서 문장을 분리해보고 싶다.\n",
        "from kiwipiepy import Kiwi\n",
        "kiwi = Kiwi()"
      ],
      "metadata": {
        "id": "UbMKSR_Zt9iu"
      },
      "execution_count": null,
      "outputs": []
    },
    {
      "cell_type": "code",
      "source": [
        "all_text = get_sentences[0].page_content"
      ],
      "metadata": {
        "id": "6cA-cWr1uXDh"
      },
      "execution_count": null,
      "outputs": []
    },
    {
      "cell_type": "code",
      "source": [
        "all_sentences = []\n",
        "for i in kiwi.split_into_sents(all_text):\n",
        "    all_sentences.append(i[0])"
      ],
      "metadata": {
        "id": "6o8RTW2u0Z9k"
      },
      "execution_count": null,
      "outputs": []
    },
    {
      "cell_type": "code",
      "source": [
        "# 앗 벌써 완료!\n",
        "all_sentences[:10]"
      ],
      "metadata": {
        "colab": {
          "base_uri": "https://localhost:8080/"
        },
        "id": "dXswpRy4245M",
        "outputId": "e69e6570-229b-44a2-bd65-cb7860524b94"
      },
      "execution_count": null,
      "outputs": [
        {
          "output_type": "execute_result",
          "data": {
            "text/plain": [
              "['그래서 인생은 달리기 같아요',\n",
              " '진짜로 너무 힘들어요',\n",
              " '달리면 내가 미쳤지',\n",
              " '이걸 왜 하고 있나 막 이런 생각이 드는데 아마 다른 분들도 그럴 거예요',\n",
              " '같이 러닝하는 사람들은 저쪽 반대쪽에서 달려오는 사람들을 이렇게 보면서 동질감을 느끼는 거죠 저렇게 열심히 잘 달리고 나보다 멀쩡해 보이지만 사실은 저 사람도 속으로는 되게 힘든 사람이야 지금 당장 그만두고 싶을 거야',\n",
              " '아니면 저렇게 멀쩡한 얼굴을 빨리 달릴 수 있기까지는 진짜 오랜 시간 동안 꾸준히 달린 사람일 거야 라든지 그게 인생에서 꽤 도움이 돼요',\n",
              " '안녕하세요 최성훈의 사고 실험입니다',\n",
              " '오늘도 저희가 굉장히 특별한 게스트 분을 모셨습니다',\n",
              " '유튜브에서 가장 품이 있는 지식 콘텐츠 채널이 구독자 90만 명을 보유한 김지윤의 지식 플레이의 주인공 국제정치 전문가 김지윤 박사님 모셨습니다',\n",
              " '안녕하세요']"
            ]
          },
          "metadata": {},
          "execution_count": 25
        }
      ]
    },
    {
      "cell_type": "code",
      "source": [
        "# 총 문장은 292개\n",
        "len(all_sentences)"
      ],
      "metadata": {
        "colab": {
          "base_uri": "https://localhost:8080/"
        },
        "id": "RBckUnxJ04Py",
        "outputId": "cb917475-b2a4-4d81-be58-7b8927b11678"
      },
      "execution_count": null,
      "outputs": [
        {
          "output_type": "execute_result",
          "data": {
            "text/plain": [
              "292"
            ]
          },
          "metadata": {},
          "execution_count": 26
        }
      ]
    },
    {
      "cell_type": "markdown",
      "source": [
        "-  진행 배경 : 문장은 잘라냈는데, 어떤 것이 질문이고 어떤것이 답인지 헷갈립니다. 인터뷰이와 인터뷰어를 구분해야 할텐데요, 내용에 따라 적용되면 좋겠다는 생각이 듭니다.\n",
        "- 해결책 : llm을 활용해서 나눠봅시다\n",
        "    - 참고자료 1:  https://github.com/gkamradt/langchain-tutorials/blob/main/data_generation/Working%20With%20Call%20or%20Video%20Transcripts.ipynb\n",
        "    - 참고자료 2: https://thimbleai.com/ -> First 10 calls per team are free, then $0.45/call after that\n"
      ],
      "metadata": {
        "id": "BLIzIrkJ3Etc"
      }
    },
    {
      "cell_type": "code",
      "source": [],
      "metadata": {
        "id": "n_5Mt7sn0_cr"
      },
      "execution_count": null,
      "outputs": []
    },
    {
      "cell_type": "markdown",
      "source": [
        "- 진행 배경 : 유튜브에서 scipt 를 얻어 이를 활용하고 싶지만, 어디까지가 문장이고 어디부터가 문장이 아닌지 확인을 해야 하는 상황입니다. 한 문단에서 어디까지가 문장인지를 체크해야 할 필요성이 듭니다.\n",
        "\n",
        "- 대부분의 언어모델은 이미 '잘 만들어진 문장' 을 어특정"
      ],
      "metadata": {
        "id": "W2ddj8gMvmVj"
      }
    }
  ]
}